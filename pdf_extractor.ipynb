{
 "cells": [
  {
   "cell_type": "code",
   "execution_count": 1,
   "id": "played-attempt",
   "metadata": {},
   "outputs": [
    {
     "name": "stdout",
     "output_type": "stream",
     "text": [
      "Collecting camelot-py\n",
      "  Downloading camelot_py-0.8.2-py3-none-any.whl (42 kB)\n",
      "Requirement already satisfied: chardet>=3.0.4 in c:\\users\\gulch\\miniconda3\\lib\\site-packages (from camelot-py) (3.0.4)\n",
      "Collecting pdfminer.six>=20200726\n",
      "  Downloading pdfminer.six-20201018-py3-none-any.whl (5.6 MB)\n",
      "Requirement already satisfied: pandas>=0.23.4 in c:\\users\\gulch\\miniconda3\\lib\\site-packages (from camelot-py) (1.2.2)\n",
      "Requirement already satisfied: click>=6.7 in c:\\users\\gulch\\miniconda3\\lib\\site-packages (from camelot-py) (7.1.2)\n",
      "Requirement already satisfied: openpyxl>=2.5.8 in c:\\users\\gulch\\miniconda3\\lib\\site-packages (from camelot-py) (3.0.6)\n",
      "Collecting PyPDF2>=1.26.0\n",
      "  Downloading PyPDF2-1.26.0.tar.gz (77 kB)\n",
      "Requirement already satisfied: numpy>=1.13.3 in c:\\users\\gulch\\miniconda3\\lib\\site-packages (from camelot-py) (1.19.5)\n",
      "Requirement already satisfied: cryptography in c:\\users\\gulch\\miniconda3\\lib\\site-packages (from pdfminer.six>=20200726->camelot-py) (3.2.1)\n",
      "Collecting sortedcontainers\n",
      "  Downloading sortedcontainers-2.4.0-py2.py3-none-any.whl (29 kB)\n",
      "Requirement already satisfied: python-dateutil>=2.7.3 in c:\\users\\gulch\\miniconda3\\lib\\site-packages (from pandas>=0.23.4->camelot-py) (2.8.1)\n",
      "Requirement already satisfied: pytz>=2017.3 in c:\\users\\gulch\\miniconda3\\lib\\site-packages (from pandas>=0.23.4->camelot-py) (2021.1)\n",
      "Requirement already satisfied: jdcal in c:\\users\\gulch\\miniconda3\\lib\\site-packages (from openpyxl>=2.5.8->camelot-py) (1.4.1)\n",
      "Requirement already satisfied: et-xmlfile in c:\\users\\gulch\\miniconda3\\lib\\site-packages (from openpyxl>=2.5.8->camelot-py) (1.0.1)\n",
      "Requirement already satisfied: cffi!=1.11.3,>=1.8 in c:\\users\\gulch\\miniconda3\\lib\\site-packages (from cryptography->pdfminer.six>=20200726->camelot-py) (1.14.3)\n",
      "Requirement already satisfied: six>=1.4.1 in c:\\users\\gulch\\miniconda3\\lib\\site-packages (from cryptography->pdfminer.six>=20200726->camelot-py) (1.15.0)\n",
      "Requirement already satisfied: pycparser in c:\\users\\gulch\\miniconda3\\lib\\site-packages (from cffi!=1.11.3,>=1.8->cryptography->pdfminer.six>=20200726->camelot-py) (2.20)\n",
      "Building wheels for collected packages: PyPDF2\n",
      "  Building wheel for PyPDF2 (setup.py): started\n",
      "  Building wheel for PyPDF2 (setup.py): finished with status 'done'\n",
      "  Created wheel for PyPDF2: filename=PyPDF2-1.26.0-py3-none-any.whl size=61087 sha256=e0a03ecef1519536ede3bf73e94186558ebaae4990fbaaf3dc7931c231fcb60b\n",
      "  Stored in directory: c:\\users\\gulch\\appdata\\local\\pip\\cache\\wheels\\b1\\1a\\8f\\a4c34be976825a2f7948d0fa40907598d69834f8ab5889de11\n",
      "Successfully built PyPDF2\n",
      "Installing collected packages: sortedcontainers, pdfminer.six, PyPDF2, camelot-py\n",
      "Successfully installed PyPDF2-1.26.0 camelot-py-0.8.2 pdfminer.six-20201018 sortedcontainers-2.4.0\n"
     ]
    }
   ],
   "source": [
    "!pip install camelot-py"
   ]
  },
  {
   "cell_type": "code",
   "execution_count": 4,
   "id": "competitive-compiler",
   "metadata": {},
   "outputs": [
    {
     "name": "stdout",
     "output_type": "stream",
     "text": [
      "Collecting ghostscript\n",
      "  Downloading ghostscript-0.7-py2.py3-none-any.whl (25 kB)\n",
      "Requirement already satisfied: setuptools>=38.6.0 in c:\\users\\gulch\\miniconda3\\lib\\site-packages (from ghostscript) (50.3.1.post20201107)\n",
      "Installing collected packages: ghostscript\n",
      "Successfully installed ghostscript-0.7\n"
     ]
    }
   ],
   "source": [
    "!pip install ghostscript"
   ]
  },
  {
   "cell_type": "code",
   "execution_count": 8,
   "id": "civilian-swimming",
   "metadata": {},
   "outputs": [
    {
     "name": "stdout",
     "output_type": "stream",
     "text": [
      "Collecting tkintertable\n",
      "  Downloading tkintertable-1.3.3.tar.gz (58 kB)\n",
      "Requirement already satisfied: future in c:\\users\\gulch\\miniconda3\\lib\\site-packages (from tkintertable) (0.18.2)\n",
      "Building wheels for collected packages: tkintertable\n",
      "  Building wheel for tkintertable (setup.py): started\n",
      "  Building wheel for tkintertable (setup.py): finished with status 'done'\n",
      "  Created wheel for tkintertable: filename=tkintertable-1.3.3-py3-none-any.whl size=66205 sha256=7583e6e4a4fc7be39a39537d38f70c489ed9fb7dd388b3a12c60f0ba66d22686\n",
      "  Stored in directory: c:\\users\\gulch\\appdata\\local\\pip\\cache\\wheels\\4b\\05\\7c\\a0c5aa0808b0471cddef5ad7c5069bfe558a6207a58dbaf437\n",
      "Successfully built tkintertable\n",
      "Installing collected packages: tkintertable\n",
      "Successfully installed tkintertable-1.3.3\n"
     ]
    }
   ],
   "source": [
    "!pip install tkintertable"
   ]
  },
  {
   "cell_type": "code",
   "execution_count": 20,
   "id": "developed-fashion",
   "metadata": {},
   "outputs": [
    {
     "name": "stdout",
     "output_type": "stream",
     "text": [
      "Collecting tabula-py\n",
      "  Downloading tabula_py-2.2.0-py3-none-any.whl (11.7 MB)\n",
      "Requirement already satisfied: pandas>=0.25.3 in c:\\users\\gulch\\miniconda3\\lib\\site-packages (from tabula-py) (1.2.2)\n",
      "Requirement already satisfied: numpy in c:\\users\\gulch\\miniconda3\\lib\\site-packages (from tabula-py) (1.19.5)\n",
      "Collecting distro\n",
      "  Downloading distro-1.5.0-py2.py3-none-any.whl (18 kB)\n",
      "Requirement already satisfied: python-dateutil>=2.7.3 in c:\\users\\gulch\\miniconda3\\lib\\site-packages (from pandas>=0.25.3->tabula-py) (2.8.1)\n",
      "Requirement already satisfied: pytz>=2017.3 in c:\\users\\gulch\\miniconda3\\lib\\site-packages (from pandas>=0.25.3->tabula-py) (2021.1)\n",
      "Requirement already satisfied: six>=1.5 in c:\\users\\gulch\\miniconda3\\lib\\site-packages (from python-dateutil>=2.7.3->pandas>=0.25.3->tabula-py) (1.15.0)\n",
      "Installing collected packages: distro, tabula-py\n",
      "Successfully installed distro-1.5.0 tabula-py-2.2.0\n"
     ]
    }
   ],
   "source": [
    "!pip install tabula-py"
   ]
  },
  {
   "cell_type": "code",
   "execution_count": 32,
   "id": "special-removal",
   "metadata": {},
   "outputs": [],
   "source": [
    "import camelot\n",
    "\n",
    "# PDF file to extract tables from\n",
    "file = \"./docs/Приказ_Министерства_здравоохранения_Российской_Федерации_от_20_декабря_2012_г.№_1095н.pdf\""
   ]
  },
  {
   "cell_type": "code",
   "execution_count": 33,
   "id": "oriental-joyce",
   "metadata": {},
   "outputs": [],
   "source": [
    "# extract all the tables in the PDF file\n",
    "tables = camelot.read_pdf(file, pages='1,2,3,4,5,6,7,8')"
   ]
  },
  {
   "cell_type": "code",
   "execution_count": 34,
   "id": "center-blanket",
   "metadata": {},
   "outputs": [
    {
     "name": "stdout",
     "output_type": "stream",
     "text": [
      "Total tables extracted: 8\n"
     ]
    }
   ],
   "source": [
    "# number of tables extracted\n",
    "print(\"Total tables extracted:\", tables.n)"
   ]
  },
  {
   "cell_type": "code",
   "execution_count": 35,
   "id": "sharing-battlefield",
   "metadata": {},
   "outputs": [
    {
     "data": {
      "text/plain": [
       "<TableList n=8>"
      ]
     },
     "execution_count": 35,
     "metadata": {},
     "output_type": "execute_result"
    }
   ],
   "source": [
    "tables"
   ]
  },
  {
   "cell_type": "code",
   "execution_count": 43,
   "id": "under-replication",
   "metadata": {},
   "outputs": [
    {
     "data": {
      "text/html": [
       "<div>\n",
       "<style scoped>\n",
       "    .dataframe tbody tr th:only-of-type {\n",
       "        vertical-align: middle;\n",
       "    }\n",
       "\n",
       "    .dataframe tbody tr th {\n",
       "        vertical-align: top;\n",
       "    }\n",
       "\n",
       "    .dataframe thead th {\n",
       "        text-align: right;\n",
       "    }\n",
       "</style>\n",
       "<table border=\"1\" class=\"dataframe\">\n",
       "  <thead>\n",
       "    <tr style=\"text-align: right;\">\n",
       "      <th></th>\n",
       "      <th>0</th>\n",
       "      <th>1</th>\n",
       "      <th>2</th>\n",
       "    </tr>\n",
       "  </thead>\n",
       "  <tbody>\n",
       "    <tr>\n",
       "      <th>0</th>\n",
       "      <td>Наименование вида лечебного питания</td>\n",
       "      <td>Усредненный \\nпоказатель \\nчастоты \\nпредостав...</td>\n",
       "      <td>Количество</td>\n",
       "    </tr>\n",
       "    <tr>\n",
       "      <th>1</th>\n",
       "      <td>Основной вариант стандартной диеты</td>\n",
       "      <td>1</td>\n",
       "      <td>10</td>\n",
       "    </tr>\n",
       "  </tbody>\n",
       "</table>\n",
       "</div>"
      ],
      "text/plain": [
       "                                     0  \\\n",
       "0  Наименование вида лечебного питания   \n",
       "1   Основной вариант стандартной диеты   \n",
       "\n",
       "                                                   1           2  \n",
       "0  Усредненный \\nпоказатель \\nчастоты \\nпредостав...  Количество  \n",
       "1                                                  1          10  "
      ]
     },
     "execution_count": 43,
     "metadata": {},
     "output_type": "execute_result"
    }
   ],
   "source": [
    "tables[7].df"
   ]
  },
  {
   "cell_type": "code",
   "execution_count": 21,
   "id": "overall-mixture",
   "metadata": {},
   "outputs": [],
   "source": [
    "import tabula\n",
    "import os"
   ]
  },
  {
   "cell_type": "code",
   "execution_count": 22,
   "id": "still-tucson",
   "metadata": {},
   "outputs": [
    {
     "ename": "JavaNotFoundError",
     "evalue": "`java` command is not found from this Python process.Please ensure Java is installed and PATH is set for `java`",
     "output_type": "error",
     "traceback": [
      "\u001b[1;31m---------------------------------------------------------------------------\u001b[0m",
      "\u001b[1;31mFileNotFoundError\u001b[0m                         Traceback (most recent call last)",
      "\u001b[1;32mc:\\users\\gulch\\miniconda3\\lib\\site-packages\\tabula\\io.py\u001b[0m in \u001b[0;36m_run\u001b[1;34m(java_options, options, path, encoding)\u001b[0m\n\u001b[0;32m     79\u001b[0m     \u001b[1;32mtry\u001b[0m\u001b[1;33m:\u001b[0m\u001b[1;33m\u001b[0m\u001b[1;33m\u001b[0m\u001b[0m\n\u001b[1;32m---> 80\u001b[1;33m         result = subprocess.run(\n\u001b[0m\u001b[0;32m     81\u001b[0m             \u001b[0margs\u001b[0m\u001b[1;33m,\u001b[0m\u001b[1;33m\u001b[0m\u001b[1;33m\u001b[0m\u001b[0m\n",
      "\u001b[1;32mc:\\users\\gulch\\miniconda3\\lib\\subprocess.py\u001b[0m in \u001b[0;36mrun\u001b[1;34m(input, capture_output, timeout, check, *popenargs, **kwargs)\u001b[0m\n\u001b[0;32m    488\u001b[0m \u001b[1;33m\u001b[0m\u001b[0m\n\u001b[1;32m--> 489\u001b[1;33m     \u001b[1;32mwith\u001b[0m \u001b[0mPopen\u001b[0m\u001b[1;33m(\u001b[0m\u001b[1;33m*\u001b[0m\u001b[0mpopenargs\u001b[0m\u001b[1;33m,\u001b[0m \u001b[1;33m**\u001b[0m\u001b[0mkwargs\u001b[0m\u001b[1;33m)\u001b[0m \u001b[1;32mas\u001b[0m \u001b[0mprocess\u001b[0m\u001b[1;33m:\u001b[0m\u001b[1;33m\u001b[0m\u001b[1;33m\u001b[0m\u001b[0m\n\u001b[0m\u001b[0;32m    490\u001b[0m         \u001b[1;32mtry\u001b[0m\u001b[1;33m:\u001b[0m\u001b[1;33m\u001b[0m\u001b[1;33m\u001b[0m\u001b[0m\n",
      "\u001b[1;32mc:\\users\\gulch\\miniconda3\\lib\\subprocess.py\u001b[0m in \u001b[0;36m__init__\u001b[1;34m(self, args, bufsize, executable, stdin, stdout, stderr, preexec_fn, close_fds, shell, cwd, env, universal_newlines, startupinfo, creationflags, restore_signals, start_new_session, pass_fds, encoding, errors, text)\u001b[0m\n\u001b[0;32m    853\u001b[0m \u001b[1;33m\u001b[0m\u001b[0m\n\u001b[1;32m--> 854\u001b[1;33m             self._execute_child(args, executable, preexec_fn, close_fds,\n\u001b[0m\u001b[0;32m    855\u001b[0m                                 \u001b[0mpass_fds\u001b[0m\u001b[1;33m,\u001b[0m \u001b[0mcwd\u001b[0m\u001b[1;33m,\u001b[0m \u001b[0menv\u001b[0m\u001b[1;33m,\u001b[0m\u001b[1;33m\u001b[0m\u001b[1;33m\u001b[0m\u001b[0m\n",
      "\u001b[1;32mc:\\users\\gulch\\miniconda3\\lib\\subprocess.py\u001b[0m in \u001b[0;36m_execute_child\u001b[1;34m(self, args, executable, preexec_fn, close_fds, pass_fds, cwd, env, startupinfo, creationflags, shell, p2cread, p2cwrite, c2pread, c2pwrite, errread, errwrite, unused_restore_signals, unused_start_new_session)\u001b[0m\n\u001b[0;32m   1306\u001b[0m             \u001b[1;32mtry\u001b[0m\u001b[1;33m:\u001b[0m\u001b[1;33m\u001b[0m\u001b[1;33m\u001b[0m\u001b[0m\n\u001b[1;32m-> 1307\u001b[1;33m                 hp, ht, pid, tid = _winapi.CreateProcess(executable, args,\n\u001b[0m\u001b[0;32m   1308\u001b[0m                                          \u001b[1;31m# no special security\u001b[0m\u001b[1;33m\u001b[0m\u001b[1;33m\u001b[0m\u001b[1;33m\u001b[0m\u001b[0m\n",
      "\u001b[1;31mFileNotFoundError\u001b[0m: [WinError 2] Не удается найти указанный файл",
      "\nDuring handling of the above exception, another exception occurred:\n",
      "\u001b[1;31mJavaNotFoundError\u001b[0m                         Traceback (most recent call last)",
      "\u001b[1;32m<ipython-input-22-60c11d2c0835>\u001b[0m in \u001b[0;36m<module>\u001b[1;34m\u001b[0m\n\u001b[0;32m      1\u001b[0m \u001b[1;31m# read PDF file\u001b[0m\u001b[1;33m\u001b[0m\u001b[1;33m\u001b[0m\u001b[1;33m\u001b[0m\u001b[0m\n\u001b[1;32m----> 2\u001b[1;33m \u001b[0mtables\u001b[0m \u001b[1;33m=\u001b[0m \u001b[0mtabula\u001b[0m\u001b[1;33m.\u001b[0m\u001b[0mread_pdf\u001b[0m\u001b[1;33m(\u001b[0m\u001b[1;34m\"./docs/1710.05006.pdf\"\u001b[0m\u001b[1;33m,\u001b[0m \u001b[0mpages\u001b[0m\u001b[1;33m=\u001b[0m\u001b[1;34m\"all\"\u001b[0m\u001b[1;33m)\u001b[0m\u001b[1;33m\u001b[0m\u001b[1;33m\u001b[0m\u001b[0m\n\u001b[0m",
      "\u001b[1;32mc:\\users\\gulch\\miniconda3\\lib\\site-packages\\tabula\\io.py\u001b[0m in \u001b[0;36mread_pdf\u001b[1;34m(input_path, output_format, encoding, java_options, pandas_options, multiple_tables, user_agent, **kwargs)\u001b[0m\n\u001b[0;32m    320\u001b[0m \u001b[1;33m\u001b[0m\u001b[0m\n\u001b[0;32m    321\u001b[0m     \u001b[1;32mtry\u001b[0m\u001b[1;33m:\u001b[0m\u001b[1;33m\u001b[0m\u001b[1;33m\u001b[0m\u001b[0m\n\u001b[1;32m--> 322\u001b[1;33m         \u001b[0moutput\u001b[0m \u001b[1;33m=\u001b[0m \u001b[0m_run\u001b[0m\u001b[1;33m(\u001b[0m\u001b[0mjava_options\u001b[0m\u001b[1;33m,\u001b[0m \u001b[0mkwargs\u001b[0m\u001b[1;33m,\u001b[0m \u001b[0mpath\u001b[0m\u001b[1;33m,\u001b[0m \u001b[0mencoding\u001b[0m\u001b[1;33m)\u001b[0m\u001b[1;33m\u001b[0m\u001b[1;33m\u001b[0m\u001b[0m\n\u001b[0m\u001b[0;32m    323\u001b[0m     \u001b[1;32mfinally\u001b[0m\u001b[1;33m:\u001b[0m\u001b[1;33m\u001b[0m\u001b[1;33m\u001b[0m\u001b[0m\n\u001b[0;32m    324\u001b[0m         \u001b[1;32mif\u001b[0m \u001b[0mtemporary\u001b[0m\u001b[1;33m:\u001b[0m\u001b[1;33m\u001b[0m\u001b[1;33m\u001b[0m\u001b[0m\n",
      "\u001b[1;32mc:\\users\\gulch\\miniconda3\\lib\\site-packages\\tabula\\io.py\u001b[0m in \u001b[0;36m_run\u001b[1;34m(java_options, options, path, encoding)\u001b[0m\n\u001b[0;32m     89\u001b[0m         \u001b[1;32mreturn\u001b[0m \u001b[0mresult\u001b[0m\u001b[1;33m.\u001b[0m\u001b[0mstdout\u001b[0m\u001b[1;33m\u001b[0m\u001b[1;33m\u001b[0m\u001b[0m\n\u001b[0;32m     90\u001b[0m     \u001b[1;32mexcept\u001b[0m \u001b[0mFileNotFoundError\u001b[0m\u001b[1;33m:\u001b[0m\u001b[1;33m\u001b[0m\u001b[1;33m\u001b[0m\u001b[0m\n\u001b[1;32m---> 91\u001b[1;33m         \u001b[1;32mraise\u001b[0m \u001b[0mJavaNotFoundError\u001b[0m\u001b[1;33m(\u001b[0m\u001b[0mJAVA_NOT_FOUND_ERROR\u001b[0m\u001b[1;33m)\u001b[0m\u001b[1;33m\u001b[0m\u001b[1;33m\u001b[0m\u001b[0m\n\u001b[0m\u001b[0;32m     92\u001b[0m     \u001b[1;32mexcept\u001b[0m \u001b[0msubprocess\u001b[0m\u001b[1;33m.\u001b[0m\u001b[0mCalledProcessError\u001b[0m \u001b[1;32mas\u001b[0m \u001b[0me\u001b[0m\u001b[1;33m:\u001b[0m\u001b[1;33m\u001b[0m\u001b[1;33m\u001b[0m\u001b[0m\n\u001b[0;32m     93\u001b[0m         \u001b[0mlogger\u001b[0m\u001b[1;33m.\u001b[0m\u001b[0merror\u001b[0m\u001b[1;33m(\u001b[0m\u001b[1;34m\"Error from tabula-java:\\n{}\\n\"\u001b[0m\u001b[1;33m.\u001b[0m\u001b[0mformat\u001b[0m\u001b[1;33m(\u001b[0m\u001b[0me\u001b[0m\u001b[1;33m.\u001b[0m\u001b[0mstderr\u001b[0m\u001b[1;33m.\u001b[0m\u001b[0mdecode\u001b[0m\u001b[1;33m(\u001b[0m\u001b[0mencoding\u001b[0m\u001b[1;33m)\u001b[0m\u001b[1;33m)\u001b[0m\u001b[1;33m)\u001b[0m\u001b[1;33m\u001b[0m\u001b[1;33m\u001b[0m\u001b[0m\n",
      "\u001b[1;31mJavaNotFoundError\u001b[0m: `java` command is not found from this Python process.Please ensure Java is installed and PATH is set for `java`"
     ]
    }
   ],
   "source": [
    "# read PDF file\n",
    "tables = tabula.read_pdf(\"./docs/1710.05006.pdf\", pages=\"all\")"
   ]
  },
  {
   "cell_type": "code",
   "execution_count": 23,
   "id": "dated-judge",
   "metadata": {},
   "outputs": [],
   "source": [
    "import tkinter"
   ]
  },
  {
   "cell_type": "code",
   "execution_count": null,
   "id": "welsh-running",
   "metadata": {},
   "outputs": [],
   "source": []
  }
 ],
 "metadata": {
  "kernelspec": {
   "display_name": "Python 3",
   "language": "python",
   "name": "python3"
  },
  "language_info": {
   "codemirror_mode": {
    "name": "ipython",
    "version": 3
   },
   "file_extension": ".py",
   "mimetype": "text/x-python",
   "name": "python",
   "nbconvert_exporter": "python",
   "pygments_lexer": "ipython3",
   "version": "3.8.5"
  }
 },
 "nbformat": 4,
 "nbformat_minor": 5
}
