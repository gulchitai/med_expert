{
 "cells": [
  {
   "cell_type": "raw",
   "id": "frozen-robertson",
   "metadata": {},
   "source": [
    "!pip install camelot-py"
   ]
  },
  {
   "cell_type": "raw",
   "id": "boolean-idaho",
   "metadata": {},
   "source": [
    "!pip install ghostscript"
   ]
  },
  {
   "cell_type": "raw",
   "id": "measured-snowboard",
   "metadata": {},
   "source": [
    "!pip install tkintertable"
   ]
  },
  {
   "cell_type": "raw",
   "id": "demonstrated-motel",
   "metadata": {},
   "source": [
    "!pip install tabula-py"
   ]
  },
  {
   "cell_type": "code",
   "execution_count": 1,
   "id": "suffering-magnitude",
   "metadata": {},
   "outputs": [],
   "source": [
    "import camelot\n",
    "from pymongo import MongoClient\n",
    "import pandas as pd\n",
    "\n",
    "# PDF file to extract tables from\n",
    "file = \"https://static-0.minzdrav.gov.ru/system/attachments/attaches/000/025/714/original/%D0%9F%D1%80%D0%B8%D0%BA%D0%B0%D0%B7_%D0%9C%D0%B8%D0%BD%D0%B8%D1%81%D1%82%D0%B5%D1%80%D1%81%D1%82%D0%B2%D0%B0_%D0%B7%D0%B4%D1%80%D0%B0%D0%B2%D0%BE%D0%BE%D1%85%D1%80%D0%B0%D0%BD%D0%B5%D0%BD%D0%B8%D1%8F_%D0%A0%D0%BE%D1%81%D1%81%D0%B8%D0%B9%D1%81%D0%BA%D0%BE%D0%B9_%D0%A4%D0%B5%D0%B4%D0%B5%D1%80%D0%B0%D1%86%D0%B8%D0%B8_%D0%BE%D1%82_20_%D0%B4%D0%B5%D0%BA%D0%B0%D0%B1%D1%80%D1%8F_2012_%D0%B3._%E2%84%96_1135%D0%BD.pdf?1429790691\""
   ]
  },
  {
   "cell_type": "code",
   "execution_count": 2,
   "id": "bacterial-strength",
   "metadata": {},
   "outputs": [],
   "source": [
    "# extract all the tables in the PDF file\n",
    "tables = camelot.read_pdf(file, pages='all')"
   ]
  },
  {
   "cell_type": "code",
   "execution_count": 3,
   "id": "noticed-metabolism",
   "metadata": {},
   "outputs": [
    {
     "name": "stdout",
     "output_type": "stream",
     "text": [
      "Total tables extracted: 5\n"
     ]
    }
   ],
   "source": [
    "# number of tables extracted\n",
    "print(\"Total tables extracted:\", tables.n)"
   ]
  },
  {
   "cell_type": "code",
   "execution_count": 4,
   "id": "mediterranean-lithuania",
   "metadata": {},
   "outputs": [
    {
     "data": {
      "text/plain": [
       "<TableList n=5>"
      ]
     },
     "execution_count": 4,
     "metadata": {},
     "output_type": "execute_result"
    }
   ],
   "source": [
    "tables"
   ]
  },
  {
   "cell_type": "code",
   "execution_count": 11,
   "id": "extraordinary-taxation",
   "metadata": {},
   "outputs": [
    {
     "data": {
      "text/html": [
       "<div>\n",
       "<style scoped>\n",
       "    .dataframe tbody tr th:only-of-type {\n",
       "        vertical-align: middle;\n",
       "    }\n",
       "\n",
       "    .dataframe tbody tr th {\n",
       "        vertical-align: top;\n",
       "    }\n",
       "\n",
       "    .dataframe thead th {\n",
       "        text-align: right;\n",
       "    }\n",
       "</style>\n",
       "<table border=\"1\" class=\"dataframe\">\n",
       "  <thead>\n",
       "    <tr style=\"text-align: right;\">\n",
       "      <th></th>\n",
       "      <th>0</th>\n",
       "      <th>1</th>\n",
       "      <th>2</th>\n",
       "      <th>3</th>\n",
       "      <th>4</th>\n",
       "      <th>5</th>\n",
       "      <th>6</th>\n",
       "    </tr>\n",
       "  </thead>\n",
       "  <tbody>\n",
       "    <tr>\n",
       "      <th>0</th>\n",
       "      <td>Код</td>\n",
       "      <td>Анатомо-терапевтич\\nеско-химическая \\nклассифи...</td>\n",
       "      <td>Наименование лекарственного \\nпрепарата*(3)</td>\n",
       "      <td>Усредненный \\nпоказатель \\nчастоты \\nпредостав...</td>\n",
       "      <td>Единиц\\nы \\nизмерен\\nия</td>\n",
       "      <td>ССД*(4)</td>\n",
       "      <td>СКД*(5)</td>\n",
       "    </tr>\n",
       "    <tr>\n",
       "      <th>1</th>\n",
       "      <td>V08CA</td>\n",
       "      <td>Парамагнитные \\nконтрастные \\nсредства</td>\n",
       "      <td></td>\n",
       "      <td>0,16</td>\n",
       "      <td></td>\n",
       "      <td></td>\n",
       "      <td></td>\n",
       "    </tr>\n",
       "    <tr>\n",
       "      <th>2</th>\n",
       "      <td></td>\n",
       "      <td></td>\n",
       "      <td>Гадодиамид</td>\n",
       "      <td></td>\n",
       "      <td>ммоль</td>\n",
       "      <td>0,5</td>\n",
       "      <td>0,5</td>\n",
       "    </tr>\n",
       "    <tr>\n",
       "      <th>3</th>\n",
       "      <td></td>\n",
       "      <td></td>\n",
       "      <td>Гадопентетовая кислота</td>\n",
       "      <td></td>\n",
       "      <td>ммоль</td>\n",
       "      <td>0,5</td>\n",
       "      <td>0,5</td>\n",
       "    </tr>\n",
       "  </tbody>\n",
       "</table>\n",
       "</div>"
      ],
      "text/plain": [
       "       0                                                  1  \\\n",
       "0    Код  Анатомо-терапевтич\\nеско-химическая \\nклассифи...   \n",
       "1  V08CA             Парамагнитные \\nконтрастные \\nсредства   \n",
       "2                                                             \n",
       "3                                                             \n",
       "\n",
       "                                             2  \\\n",
       "0  Наименование лекарственного \\nпрепарата*(3)   \n",
       "1                                                \n",
       "2                                   Гадодиамид   \n",
       "3                       Гадопентетовая кислота   \n",
       "\n",
       "                                                   3                        4  \\\n",
       "0  Усредненный \\nпоказатель \\nчастоты \\nпредостав...  Единиц\\nы \\nизмерен\\nия   \n",
       "1                                               0,16                            \n",
       "2                                                                       ммоль   \n",
       "3                                                                       ммоль   \n",
       "\n",
       "         5        6  \n",
       "0  ССД*(4)  СКД*(5)  \n",
       "1                    \n",
       "2      0,5      0,5  \n",
       "3      0,5      0,5  "
      ]
     },
     "execution_count": 11,
     "metadata": {},
     "output_type": "execute_result"
    }
   ],
   "source": [
    "tables[4].df"
   ]
  },
  {
   "cell_type": "raw",
   "id": "difficult-mechanism",
   "metadata": {},
   "source": [
    "import tabula\n",
    "import os"
   ]
  },
  {
   "cell_type": "raw",
   "id": "dimensional-commons",
   "metadata": {},
   "source": [
    "# read PDF file\n",
    "tables = tabula.read_pdf(\"./docs/1710.05006.pdf\", pages=\"all\")"
   ]
  },
  {
   "cell_type": "code",
   "execution_count": 23,
   "id": "neither-squad",
   "metadata": {},
   "outputs": [],
   "source": [
    "import tkinter"
   ]
  },
  {
   "cell_type": "code",
   "execution_count": 3,
   "id": "funny-workshop",
   "metadata": {},
   "outputs": [],
   "source": [
    "client = MongoClient('localhost', 27017)\n",
    "db = client['med_expert']\n",
    "\n",
    "df = pd.DataFrame(list(db['standart_links'].find({})))"
   ]
  },
  {
   "cell_type": "code",
   "execution_count": 25,
   "id": "architectural-egyptian",
   "metadata": {},
   "outputs": [
    {
     "data": {
      "text/plain": [
       "'//static-0.minzdrav.gov.ru/system/attachments/attaches/000/028/373/original/%D0%9F%D1%80%D0%B8%D0%BA%D0%B0%D0%B7_%D0%A1%D1%82%D0%B0%D0%BD%D0%B4%D0%B0%D1%80%D1%82_407%D0%B0%D0%BD_%D0%BE%D1%82_1_%D0%B8%D1%8E%D0%BB%D1%8F_2015_%D0%B3._%D0%BC%D0%B8%D0%BD%D1%8E%D1%81%D1%82.pdf?1447423143'"
      ]
     },
     "execution_count": 25,
     "metadata": {},
     "output_type": "execute_result"
    }
   ],
   "source": [
    "df['links'].to_list()[0][0]"
   ]
  },
  {
   "cell_type": "code",
   "execution_count": 26,
   "id": "framed-greece",
   "metadata": {},
   "outputs": [],
   "source": [
    "file = 'https:' + df['links'].to_list()[0][0]\n",
    "tables = camelot.read_pdf(file, pages='1-end')"
   ]
  },
  {
   "cell_type": "code",
   "execution_count": 27,
   "id": "naval-karma",
   "metadata": {},
   "outputs": [
    {
     "data": {
      "text/plain": [
       "47"
      ]
     },
     "execution_count": 27,
     "metadata": {},
     "output_type": "execute_result"
    }
   ],
   "source": [
    "tables.n"
   ]
  },
  {
   "cell_type": "code",
   "execution_count": 36,
   "id": "settled-tracker",
   "metadata": {},
   "outputs": [
    {
     "data": {
      "text/html": [
       "<div>\n",
       "<style scoped>\n",
       "    .dataframe tbody tr th:only-of-type {\n",
       "        vertical-align: middle;\n",
       "    }\n",
       "\n",
       "    .dataframe tbody tr th {\n",
       "        vertical-align: top;\n",
       "    }\n",
       "\n",
       "    .dataframe thead th {\n",
       "        text-align: right;\n",
       "    }\n",
       "</style>\n",
       "<table border=\"1\" class=\"dataframe\">\n",
       "  <thead>\n",
       "    <tr style=\"text-align: right;\">\n",
       "      <th></th>\n",
       "      <th>0</th>\n",
       "      <th>1</th>\n",
       "      <th>2</th>\n",
       "      <th>3</th>\n",
       "    </tr>\n",
       "  </thead>\n",
       "  <tbody>\n",
       "    <tr>\n",
       "      <th>0</th>\n",
       "      <td>медицинской\\nпоказатель\\nуслуги\\nчастоты\\nпред...</td>\n",
       "      <td></td>\n",
       "      <td></td>\n",
       "      <td>показатель\\nкратности\\nприменения</td>\n",
       "    </tr>\n",
       "    <tr>\n",
       "      <th>1</th>\n",
       "      <td>А09.05.022\\nИсследование уровня свободного и с...</td>\n",
       "      <td></td>\n",
       "      <td></td>\n",
       "      <td>1\\n1</td>\n",
       "    </tr>\n",
       "    <tr>\n",
       "      <th>2</th>\n",
       "      <td>А12.05.005</td>\n",
       "      <td>Определение основных групп крови (А, В, 0)\\n1</td>\n",
       "      <td></td>\n",
       "      <td>2</td>\n",
       "    </tr>\n",
       "    <tr>\n",
       "      <th>3</th>\n",
       "      <td>А12.05.006</td>\n",
       "      <td>Определение резус-принадлежности\\n1</td>\n",
       "      <td></td>\n",
       "      <td>2</td>\n",
       "    </tr>\n",
       "    <tr>\n",
       "      <th>4</th>\n",
       "      <td>А12.05.007\\nА12.06.011\\nА26.06.036\\nА26.06.041...</td>\n",
       "      <td>Определение подгруппы и других групп крови мен...</td>\n",
       "      <td>0,2\\n1</td>\n",
       "      <td>1\\n1\\n1</td>\n",
       "    </tr>\n",
       "    <tr>\n",
       "      <th>5</th>\n",
       "      <td></td>\n",
       "      <td></td>\n",
       "      <td></td>\n",
       "      <td></td>\n",
       "    </tr>\n",
       "    <tr>\n",
       "      <th>6</th>\n",
       "      <td></td>\n",
       "      <td></td>\n",
       "      <td></td>\n",
       "      <td></td>\n",
       "    </tr>\n",
       "    <tr>\n",
       "      <th>7</th>\n",
       "      <td></td>\n",
       "      <td>Определение антител классов М, О (1§М, 1§0) к ...</td>\n",
       "      <td></td>\n",
       "      <td>1\\n1) в крови</td>\n",
       "    </tr>\n",
       "  </tbody>\n",
       "</table>\n",
       "</div>"
      ],
      "text/plain": [
       "                                                   0  \\\n",
       "0  медицинской\\nпоказатель\\nуслуги\\nчастоты\\nпред...   \n",
       "1  А09.05.022\\nИсследование уровня свободного и с...   \n",
       "2                                         А12.05.005   \n",
       "3                                         А12.05.006   \n",
       "4  А12.05.007\\nА12.06.011\\nА26.06.036\\nА26.06.041...   \n",
       "5                                                      \n",
       "6                                                      \n",
       "7                                                      \n",
       "\n",
       "                                                   1       2  \\\n",
       "0                                                              \n",
       "1                                                              \n",
       "2      Определение основных групп крови (А, В, 0)\\n1           \n",
       "3                Определение резус-принадлежности\\n1           \n",
       "4  Определение подгруппы и других групп крови мен...  0,2\\n1   \n",
       "5                                                              \n",
       "6                                                              \n",
       "7  Определение антител классов М, О (1§М, 1§0) к ...           \n",
       "\n",
       "                                   3  \n",
       "0  показатель\\nкратности\\nприменения  \n",
       "1                               1\\n1  \n",
       "2                                  2  \n",
       "3                                  2  \n",
       "4                            1\\n1\\n1  \n",
       "5                                     \n",
       "6                                     \n",
       "7                      1\\n1) в крови  "
      ]
     },
     "execution_count": 36,
     "metadata": {},
     "output_type": "execute_result"
    }
   ],
   "source": [
    "tables[0].df"
   ]
  },
  {
   "cell_type": "code",
   "execution_count": null,
   "id": "hybrid-covering",
   "metadata": {},
   "outputs": [],
   "source": []
  }
 ],
 "metadata": {
  "kernelspec": {
   "display_name": "Python 3",
   "language": "python",
   "name": "python3"
  },
  "language_info": {
   "codemirror_mode": {
    "name": "ipython",
    "version": 3
   },
   "file_extension": ".py",
   "mimetype": "text/x-python",
   "name": "python",
   "nbconvert_exporter": "python",
   "pygments_lexer": "ipython3",
   "version": "3.8.5"
  }
 },
 "nbformat": 4,
 "nbformat_minor": 5
}
